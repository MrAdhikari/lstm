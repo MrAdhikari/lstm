{
  "nbformat": 4,
  "nbformat_minor": 0,
  "metadata": {
    "colab": {
      "provenance": [],
      "gpuType": "T4",
      "authorship_tag": "ABX9TyPBMclotj3WrRAKr7XyRih+"
    },
    "kernelspec": {
      "name": "python3",
      "display_name": "Python 3"
    },
    "language_info": {
      "name": "python"
    },
    "accelerator": "GPU"
  },
  "cells": [
    {
      "cell_type": "markdown",
      "source": [],
      "metadata": {
        "id": "-kdj62TAFMNp"
      }
    },
    {
      "cell_type": "markdown",
      "source": [
        "**So the new implementation of lstm begins**"
      ],
      "metadata": {
        "id": "UyKEegPTXIpL"
      }
    },
    {
      "cell_type": "code",
      "execution_count": null,
      "metadata": {
        "id": "xZM0j8MKWOK7"
      },
      "outputs": [],
      "source": [
        "import numpy as np\n",
        "import torch\n",
        "from torch import nn, optim\n",
        "from torchvision import datasets, transforms\n",
        "\n",
        "from torch.utils.data import Dataset, DataLoader\n",
        "import matplotlib.pyplot as plt\n",
        "import torch\n"
      ]
    },
    {
      "cell_type": "code",
      "source": [
        "# device = (\n",
        "#     \"cuda\"\n",
        "#     if torch.cuda.is_available()\n",
        "#     else \"mps\"\n",
        "#     if torch.backends.mps.is_available()\n",
        "#     else \"cpu\"\n",
        "# )\n",
        "# print(f\"Using {device} device\")"
      ],
      "metadata": {
        "id": "vYiuEwy8h7vu"
      },
      "execution_count": null,
      "outputs": []
    },
    {
      "cell_type": "markdown",
      "source": [],
      "metadata": {
        "id": "s2K4-ZizXGQD"
      }
    },
    {
      "cell_type": "code",
      "source": [
        "training_data = datasets.FashionMNIST(\n",
        "    root=\"data\",\n",
        "    train=True,\n",
        "    download=True,\n",
        "    transform=transforms.ToTensor()\n",
        ")\n",
        "\n",
        "test_data = datasets.FashionMNIST(\n",
        "    root=\"data\",\n",
        "    train=False,\n",
        "    download=True,\n",
        "    transform=transforms.ToTensor()\n",
        ")\n"
      ],
      "metadata": {
        "id": "WP7L3xruXEex",
        "colab": {
          "base_uri": "https://localhost:8080/"
        },
        "outputId": "f311cd92-0ac6-4237-d983-80b258d71930"
      },
      "execution_count": null,
      "outputs": [
        {
          "output_type": "stream",
          "name": "stdout",
          "text": [
            "Downloading http://fashion-mnist.s3-website.eu-central-1.amazonaws.com/train-images-idx3-ubyte.gz\n",
            "Downloading http://fashion-mnist.s3-website.eu-central-1.amazonaws.com/train-images-idx3-ubyte.gz to data/FashionMNIST/raw/train-images-idx3-ubyte.gz\n"
          ]
        },
        {
          "output_type": "stream",
          "name": "stderr",
          "text": [
            "100%|██████████| 26421880/26421880 [00:06<00:00, 4159085.57it/s] \n"
          ]
        },
        {
          "output_type": "stream",
          "name": "stdout",
          "text": [
            "Extracting data/FashionMNIST/raw/train-images-idx3-ubyte.gz to data/FashionMNIST/raw\n",
            "\n",
            "Downloading http://fashion-mnist.s3-website.eu-central-1.amazonaws.com/train-labels-idx1-ubyte.gz\n",
            "Downloading http://fashion-mnist.s3-website.eu-central-1.amazonaws.com/train-labels-idx1-ubyte.gz to data/FashionMNIST/raw/train-labels-idx1-ubyte.gz\n"
          ]
        },
        {
          "output_type": "stream",
          "name": "stderr",
          "text": [
            "100%|██████████| 29515/29515 [00:00<00:00, 300567.13it/s]\n"
          ]
        },
        {
          "output_type": "stream",
          "name": "stdout",
          "text": [
            "Extracting data/FashionMNIST/raw/train-labels-idx1-ubyte.gz to data/FashionMNIST/raw\n",
            "\n",
            "Downloading http://fashion-mnist.s3-website.eu-central-1.amazonaws.com/t10k-images-idx3-ubyte.gz\n",
            "Downloading http://fashion-mnist.s3-website.eu-central-1.amazonaws.com/t10k-images-idx3-ubyte.gz to data/FashionMNIST/raw/t10k-images-idx3-ubyte.gz\n"
          ]
        },
        {
          "output_type": "stream",
          "name": "stderr",
          "text": [
            "100%|██████████| 4422102/4422102 [00:03<00:00, 1195390.54it/s]\n"
          ]
        },
        {
          "output_type": "stream",
          "name": "stdout",
          "text": [
            "Extracting data/FashionMNIST/raw/t10k-images-idx3-ubyte.gz to data/FashionMNIST/raw\n",
            "\n",
            "Downloading http://fashion-mnist.s3-website.eu-central-1.amazonaws.com/t10k-labels-idx1-ubyte.gz\n",
            "Downloading http://fashion-mnist.s3-website.eu-central-1.amazonaws.com/t10k-labels-idx1-ubyte.gz to data/FashionMNIST/raw/t10k-labels-idx1-ubyte.gz\n"
          ]
        },
        {
          "output_type": "stream",
          "name": "stderr",
          "text": [
            "100%|██████████| 5148/5148 [00:00<00:00, 16173990.26it/s]"
          ]
        },
        {
          "output_type": "stream",
          "name": "stdout",
          "text": [
            "Extracting data/FashionMNIST/raw/t10k-labels-idx1-ubyte.gz to data/FashionMNIST/raw\n",
            "\n"
          ]
        },
        {
          "output_type": "stream",
          "name": "stderr",
          "text": [
            "\n"
          ]
        }
      ]
    },
    {
      "cell_type": "code",
      "source": [
        "labels_map = {\n",
        "    0: \"T-Shirt\",\n",
        "    1: \"Trouser\",\n",
        "    2: \"Pullover\",\n",
        "    3: \"Dress\",\n",
        "    4: \"Coat\",\n",
        "    5: \"Sandal\",\n",
        "    6: \"Shirt\",\n",
        "    7: \"Sneaker\",\n",
        "    8: \"Bag\",\n",
        "    9: \"Ankle Boot\",\n",
        "}\n",
        "figure = plt.figure(figsize=(8, 8))\n",
        "cols, rows = 3, 3\n",
        "for i in range(1, cols * rows + 1):\n",
        "    sample_idx = torch.randint(len(training_data), size=(1,)).item()\n",
        "    img, label = training_data[sample_idx]\n",
        "    figure.add_subplot(rows, cols, i)\n",
        "    plt.title(labels_map[label])\n",
        "    plt.axis(\"off\")\n",
        "    plt.imshow(img.squeeze(), cmap=\"gray\")\n",
        "plt.show()"
      ],
      "metadata": {
        "colab": {
          "base_uri": "https://localhost:8080/",
          "height": 675
        },
        "id": "BX-f75pva2Rn",
        "outputId": "bdb93bd1-4970-46cc-f0c0-d84e3a01110f"
      },
      "execution_count": null,
      "outputs": [
        {
          "output_type": "display_data",
          "data": {
            "text/plain": [
              "<Figure size 800x800 with 9 Axes>"
            ],
            "image/png": "[encoded data removed]"
          },
          "metadata": {}
        }
      ]
    },
    {
      "cell_type": "code",
      "source": [
        "#creating dataloaders for preprocessing, loading and everything else\n",
        "batch_size = 128\n",
        "train_dataloader = DataLoader(training_data, batch_size, shuffle=True)\n",
        "test_dataloader = DataLoader(test_data, batch_size, shuffle=True)"
      ],
      "metadata": {
        "id": "8B5GC_chbBRB"
      },
      "execution_count": null,
      "outputs": []
    },
    {
      "cell_type": "code",
      "source": [
        "from collections.abc import Sequence\n",
        "#define hyperparameters\n",
        "\n",
        "sequence_len = 28\n",
        "input_len = 28\n",
        "hidden_size = 128\n",
        "num_layers = 4      #num_layers = 2 gives the better result\n",
        "num_classes = 10    #find this number yourself from datasets for more customizability.\n",
        "num_epoch = 5\n",
        "learning_rate = 0.01"
      ],
      "metadata": {
        "id": "pY0e37J9cOy8"
      },
      "execution_count": 1,
      "outputs": []
    },
    {
      "cell_type": "code",
      "source": [
        "# class lstm_net(nn.Module):\n",
        "#     def __init__(self):\n",
        "#         super().__init__()\n",
        "#         self.flatten = nn.Flatten()\n",
        "#         self.linear_relu_stack = nn.Sequential(\n",
        "#             nn.Linear(28*28, 512),\n",
        "#             nn.ReLU(),\n",
        "#             nn.Linear(512, 512),\n",
        "#             nn.ReLU(),\n",
        "#             nn.Linear(512, 10),\n",
        "#         )\n",
        "\n",
        "#     def forward(self, x):\n",
        "#         x = self.flatten(x)\n",
        "#         logits = self.linear_relu_stack(x)\n",
        "#         return logits"
      ],
      "metadata": {
        "id": "AjJ5NGXNm2tG"
      },
      "execution_count": null,
      "outputs": []
    },
    {
      "cell_type": "markdown",
      "source": [
        "#**Getting little confusing from here**"
      ],
      "metadata": {
        "id": "enDFF2X-RMa8"
      }
    },
    {
      "cell_type": "code",
      "source": [
        "class LSTM(nn.Module):\n",
        "  def __init__(self, input_len, hidden_size, num_classes, num_layers):\n",
        "    super(LSTM, self).__init__()\n",
        "    self.hidden_size = hidden_size\n",
        "    self.num_layers = num_layers\n",
        "    self.lstm = nn.LSTM(input_len, hidden_size, num_layers, batch_first=True)\n",
        "    self.output_layer = nn.Linear(hidden_size, num_classes)\n",
        "\n",
        "  def forward(self, X):\n",
        "    hidden_states = torch.zeros(self.num_layers, X.size(0), self.hidden_size)\n",
        "    cell_states = torch.zeros(self.num_layers, X.size(0), self.hidden_size)\n",
        "\n",
        "    out, _ = self.lstm(X, (hidden_states, cell_states))\n",
        "    out = self.output_layer(out[:, -1, :])\n",
        "    return out\n",
        "\n"
      ],
      "metadata": {
        "id": "stXTip8HKOP3"
      },
      "execution_count": null,
      "outputs": []
    },
    {
      "cell_type": "code",
      "source": [
        "#setting model\n",
        "model = LSTM(input_len, hidden_size, num_classes, num_layers)\n",
        "print(model)"
      ],
      "metadata": {
        "colab": {
          "base_uri": "https://localhost:8080/"
        },
        "id": "sgTjI2U9KSNB",
        "outputId": "6f8fedea-0711-4cdd-f466-23c623ca035c"
      },
      "execution_count": null,
      "outputs": [
        {
          "output_type": "stream",
          "name": "stdout",
          "text": [
            "LSTM(\n",
            "  (lstm): LSTM(28, 128, num_layers=4, batch_first=True)\n",
            "  (output_layer): Linear(in_features=128, out_features=10, bias=True)\n",
            ")\n"
          ]
        }
      ]
    },
    {
      "cell_type": "code",
      "source": [
        "#loss and optimizer\n",
        "\n",
        "loss_func = nn.CrossEntropyLoss()\n",
        "sgd = optim.SGD(model.parameters(), lr=learning_rate)\n",
        "adam = optim.Adam(model.parameters(), lr=learning_rate)"
      ],
      "metadata": {
        "id": "y09Qm_hJNnmk"
      },
      "execution_count": null,
      "outputs": []
    },
    {
      "cell_type": "code",
      "source": [
        "def train(num_epoch, model, train_dataloader, loss_func, optimizer):\n",
        "    total_steps = len(train_dataloader)\n",
        "\n",
        "    for epoch in range(num_epoch):\n",
        "        for batch, (images, labels) in enumerate(train_dataloader):\n",
        "          images = images.reshape(-1, sequence_len, input_len)\n",
        "\n",
        "          output = model(images)\n",
        "          loss = loss_func(output, labels)\n",
        "\n",
        "          optimizer.zero_grad()\n",
        "          loss.backward()\n",
        "          optimizer.step()\n",
        "\n",
        "          if (batch+1)%100 == 0:\n",
        "                print(f\"Epoch: {epoch+1}; Batch {batch+1} / {total_steps}; Loss: {loss.item():>4f}\")"
      ],
      "metadata": {
        "id": "c7ym6jwFPi4U"
      },
      "execution_count": null,
      "outputs": []
    },
    {
      "cell_type": "code",
      "source": [
        "train(num_epoch, model, train_dataloader, loss_func, adam)"
      ],
      "metadata": {
        "colab": {
          "base_uri": "https://localhost:8080/"
        },
        "id": "q3O0QPMISxko",
        "outputId": "c6675389-9f0b-4d99-e05c-b4963d4cdabf"
      },
      "execution_count": null,
      "outputs": [
        {
          "output_type": "stream",
          "name": "stdout",
          "text": [
            "Epoch: 1; Batch 100 / 469; Loss: 1.011621\n",
            "Epoch: 1; Batch 200 / 469; Loss: 0.694762\n",
            "Epoch: 1; Batch 300 / 469; Loss: 0.567629\n",
            "Epoch: 1; Batch 400 / 469; Loss: 0.601584\n",
            "Epoch: 2; Batch 100 / 469; Loss: 0.545474\n",
            "Epoch: 2; Batch 200 / 469; Loss: 0.424634\n",
            "Epoch: 2; Batch 300 / 469; Loss: 0.538190\n",
            "Epoch: 2; Batch 400 / 469; Loss: 0.474898\n",
            "Epoch: 3; Batch 100 / 469; Loss: 0.432619\n",
            "Epoch: 3; Batch 200 / 469; Loss: 0.439568\n",
            "Epoch: 3; Batch 300 / 469; Loss: 0.435243\n",
            "Epoch: 3; Batch 400 / 469; Loss: 0.529001\n",
            "Epoch: 4; Batch 100 / 469; Loss: 0.286849\n",
            "Epoch: 4; Batch 200 / 469; Loss: 0.366803\n",
            "Epoch: 4; Batch 300 / 469; Loss: 0.503217\n",
            "Epoch: 4; Batch 400 / 469; Loss: 0.398564\n",
            "Epoch: 5; Batch 100 / 469; Loss: 0.367153\n",
            "Epoch: 5; Batch 200 / 469; Loss: 0.383920\n",
            "Epoch: 5; Batch 300 / 469; Loss: 0.379260\n",
            "Epoch: 5; Batch 400 / 469; Loss: 0.285139\n"
          ]
        }
      ]
    },
    {
      "cell_type": "code",
      "source": [
        "test_images, test_labels = next(iter(test_dataloader))\n",
        "test_labels"
      ],
      "metadata": {
        "id": "U_wdisCLThHX",
        "colab": {
          "base_uri": "https://localhost:8080/"
        },
        "outputId": "2e536dd5-7dd8-4e16-805d-ce86d16ba3aa"
      },
      "execution_count": null,
      "outputs": [
        {
          "output_type": "execute_result",
          "data": {
            "text/plain": [
              "tensor([4, 3, 8, 2, 8, 6, 4, 2, 9, 7, 1, 4, 3, 5, 9, 4, 2, 3, 2, 0, 1, 7, 4, 7,\n",
              "        1, 6, 8, 2, 8, 5, 9, 1, 5, 7, 6, 5, 5, 5, 9, 8, 9, 7, 9, 5, 7, 1, 3, 3,\n",
              "        1, 9, 3, 0, 4, 8, 3, 0, 6, 7, 2, 3, 4, 2, 3, 1, 4, 9, 0, 1, 9, 7, 8, 3,\n",
              "        5, 6, 7, 4, 7, 1, 5, 8, 7, 2, 4, 7, 7, 6, 4, 8, 7, 3, 4, 7, 4, 4, 1, 7,\n",
              "        7, 7, 0, 5, 0, 6, 0, 3, 4, 8, 0, 5, 1, 3, 1, 3, 4, 8, 8, 5, 2, 0, 5, 4,\n",
              "        2, 3, 8, 3, 7, 3, 5, 8])"
            ]
          },
          "metadata": {},
          "execution_count": 13
        }
      ]
    },
    {
      "cell_type": "code",
      "source": [
        "test_output = model(test_images.view(-1, 28, 28))"
      ],
      "metadata": {
        "id": "sYDubP-bcyAJ"
      },
      "execution_count": null,
      "outputs": []
    },
    {
      "cell_type": "code",
      "source": [
        "predicted = torch.max(test_output, 1)[1]\n",
        "predicted"
      ],
      "metadata": {
        "colab": {
          "base_uri": "https://localhost:8080/"
        },
        "id": "rn1mBt9rdLxY",
        "outputId": "6e182fe9-edeb-46b9-b613-a2bc13f49cb1"
      },
      "execution_count": null,
      "outputs": [
        {
          "output_type": "execute_result",
          "data": {
            "text/plain": [
              "tensor([4, 3, 8, 2, 3, 6, 4, 2, 9, 7, 1, 4, 6, 5, 9, 4, 2, 3, 2, 0, 0, 7, 4, 7,\n",
              "        1, 6, 8, 2, 8, 5, 9, 1, 5, 7, 2, 5, 5, 9, 9, 8, 9, 7, 9, 5, 7, 1, 3, 3,\n",
              "        1, 9, 3, 0, 4, 8, 4, 0, 6, 7, 2, 3, 6, 2, 3, 1, 4, 9, 0, 1, 9, 7, 8, 3,\n",
              "        5, 0, 7, 4, 7, 1, 5, 8, 7, 2, 4, 7, 7, 2, 1, 8, 7, 3, 4, 7, 3, 4, 1, 7,\n",
              "        7, 7, 0, 5, 0, 0, 0, 3, 4, 8, 0, 9, 1, 0, 1, 3, 4, 5, 8, 5, 2, 0, 5, 4,\n",
              "        2, 3, 8, 3, 7, 3, 9, 8])"
            ]
          },
          "metadata": {},
          "execution_count": 15
        }
      ]
    },
    {
      "cell_type": "code",
      "source": [
        "correct = [1 for i in range(100) if predicted[i] == test_labels[i]]\n"
      ],
      "metadata": {
        "id": "zXfYVxKidK3y"
      },
      "execution_count": null,
      "outputs": []
    },
    {
      "cell_type": "code",
      "source": [
        "percentage_correct = sum(correct)/100"
      ],
      "metadata": {
        "id": "UtDw9-oUeJlv"
      },
      "execution_count": null,
      "outputs": []
    },
    {
      "cell_type": "code",
      "source": [
        "print(percentage_correct)"
      ],
      "metadata": {
        "colab": {
          "base_uri": "https://localhost:8080/"
        },
        "id": "eGyXnp-keRKS",
        "outputId": "7239de00-3b4f-45e3-a4a6-77399785de1a"
      },
      "execution_count": null,
      "outputs": [
        {
          "output_type": "stream",
          "name": "stdout",
          "text": [
            "0.89\n"
          ]
        }
      ]
    },
    {
      "cell_type": "code",
      "source": [
        "def test_loop(dataloader, model, loss_fn, optimizer):\n",
        "    size = len(dataloader.dataset)\n",
        "    num_batches = len(dataloader)\n",
        "    test_loss, correct = 0, 0\n",
        "\n",
        "    with torch.no_grad():\n",
        "        for X, y in dataloader:\n",
        "            # reshape images\n",
        "            X = X.reshape(-1, 28, 28)\n",
        "            pred = model(X)\n",
        "            test_loss += loss_fn(pred, y).item()\n",
        "            correct += (pred.argmax(1) == y).type(torch.float).sum().item()\n",
        "\n",
        "    test_loss /= num_batches\n",
        "    correct /= size\n",
        "    print(f\"Test Error:\\n Accuracy: {(100*correct):>0.1f}%, Avg loss: {test_loss:>8f}\\n\")\n",
        "    return 100*correct"
      ],
      "metadata": {
        "id": "_8dxEidAeXZ7"
      },
      "execution_count": null,
      "outputs": []
    },
    {
      "cell_type": "code",
      "source": [
        "test_loop(test_dataloader, model, loss_func, adam)"
      ],
      "metadata": {
        "colab": {
          "base_uri": "https://localhost:8080/"
        },
        "id": "AL6JIRAle61J",
        "outputId": "c7562369-6d9a-4dbe-e5bf-256e224f63c6"
      },
      "execution_count": null,
      "outputs": [
        {
          "output_type": "stream",
          "name": "stdout",
          "text": [
            "Test Error:\n",
            " Accuracy: 86.1%, Avg loss: 0.383567\n",
            "\n"
          ]
        },
        {
          "output_type": "execute_result",
          "data": {
            "text/plain": [
              "86.09"
            ]
          },
          "metadata": {},
          "execution_count": 20
        }
      ]
    },
    {
      "cell_type": "code",
      "source": [
        "import matplotlib.pyplot as plt\n",
        "\n",
        "# Example list of loss values (replace with your actual data)\n",
        "losses =[0.694762,\n",
        "0.567629,\n",
        "0.601584,\n",
        "0.545474,\n",
        "0.424634,\n",
        "0.538190,\n",
        "0.474898,\n",
        "0.432619,\n",
        "0.439568,\n",
        "0.435243,\n",
        "0.529001,\n",
        "0.286849,\n",
        "0.366803,\n",
        "0.503217,\n",
        "0.398564,\n",
        "0.367153,\n",
        "0.383920,\n",
        "0.379260,\n",
        "0.285139\n",
        "]\n",
        "\n",
        "# Generate x-axis values (epochs or iterations)\n",
        "epochs = range(1, len(losses) + 1)\n",
        "\n",
        "# Plotting the losses\n",
        "plt.figure(figsize=(10, 4))  # Optional: Adjust figure size\n",
        "plt.plot(epochs, losses, marker='o', linestyle='-', color='b', label='Training Loss')\n",
        "\n",
        "# Adding labels and title\n",
        "plt.title('Training Loss over Epochs')\n",
        "plt.xlabel('Epoch')\n",
        "plt.ylabel('Loss')\n",
        "plt.grid(True)\n",
        "plt.legend()\n",
        "\n",
        "# Display the plot\n",
        "plt.show()\n"
      ],
      "metadata": {
        "id": "VNAuCClYe9nN",
        "colab": {
          "base_uri": "https://localhost:8080/",
          "height": 410
        },
        "outputId": "47544086-e521-4ca7-b697-450552836987"
      },
      "execution_count": null,
      "outputs": [
        {
          "output_type": "display_data",
          "data": {
            "text/plain": [
              "<Figure size 1000x400 with 1 Axes>"
            ],
            "image/png": "[encoded data removed]"
          },
          "metadata": {}
        }
      ]
    },
    {
      "cell_type": "code",
      "source": [],
      "metadata": {
        "id": "hbDuvTh9q8P2"
      },
      "execution_count": null,
      "outputs": []
    }
  ]
}